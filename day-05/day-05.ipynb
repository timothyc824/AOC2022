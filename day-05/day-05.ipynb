{
 "cells": [
  {
   "cell_type": "code",
   "execution_count": 27,
   "metadata": {},
   "outputs": [],
   "source": [
    "import numpy as np\n",
    "import re"
   ]
  },
  {
   "cell_type": "markdown",
   "metadata": {},
   "source": [
    "# --- Day 5: Supply Stacks ---"
   ]
  },
  {
   "cell_type": "markdown",
   "metadata": {},
   "source": [
    "## Part 1"
   ]
  },
  {
   "cell_type": "markdown",
   "metadata": {},
   "source": [
    "The expedition can depart as soon as the final supplies have been unloaded from the ships. Supplies are stored in stacks of marked crates, but because the needed supplies are buried under many other crates, the crates need to be rearranged.\n",
    "\n",
    "The ship has a giant cargo crane capable of moving crates between stacks. To ensure none of the crates get crushed or fall over, the crane operator will rearrange them in a series of carefully-planned steps. After the crates are rearranged, the desired crates will be at the top of each stack.\n",
    "\n",
    "The Elves don't want to interrupt the crane operator during this delicate procedure, but they forgot to ask her which crate will end up where, and they want to be ready to unload them as soon as possible so they can embark.\n",
    "\n",
    "They do, however, have a drawing of the starting stacks of crates and the rearrangement procedure (your puzzle input). For example:\n",
    "\n",
    "    [D]    \n",
    "[N] [C]    \n",
    "[Z] [M] [P]\n",
    " 1   2   3 \n",
    "\n",
    "move 1 from 2 to 1\n",
    "move 3 from 1 to 3\n",
    "move 2 from 2 to 1\n",
    "move 1 from 1 to 2\n",
    "\n",
    "In this example, there are three stacks of crates. Stack 1 contains two crates: crate Z is on the bottom, and crate N is on top. Stack 2 contains three crates; from bottom to top, they are crates M, C, and D. Finally, stack 3 contains a single crate, P.\n",
    "\n",
    "Then, the rearrangement procedure is given. In each step of the procedure, a quantity of crates is moved from one stack to a different stack. In the first step of the above rearrangement procedure, one crate is moved from stack 2 to stack 1, resulting in this configuration:\n",
    "\n",
    "[D]        \n",
    "[N] [C]    \n",
    "[Z] [M] [P]\n",
    " 1   2   3 \n",
    "\n",
    "In the second step, three crates are moved from stack 1 to stack 3. Crates are moved one at a time, so the first crate to be moved (D) ends up below the second and third crates:\n",
    "\n",
    "        [Z]\n",
    "        [N]\n",
    "    [C] [D]\n",
    "    [M] [P]\n",
    " 1   2   3\n",
    "\n",
    "Then, both crates are moved from stack 2 to stack 1. Again, because crates are moved one at a time, crate C ends up below crate M:\n",
    "\n",
    "        [Z]\n",
    "        [N]\n",
    "[M]     [D]\n",
    "[C]     [P]\n",
    " 1   2   3\n",
    "\n",
    "Finally, one crate is moved from stack 1 to stack 2:\n",
    "\n",
    "        [Z]\n",
    "        [N]\n",
    "        [D]\n",
    "[C] [M] [P]\n",
    " 1   2   3\n",
    "\n",
    "The Elves just need to know which crate will end up on top of each stack; in this example, the top crates are C in stack 1, M in stack 2, and Z in stack 3, so you should combine these together and give the Elves the message CMZ.\n",
    "\n",
    "After the rearrangement procedure completes, what crate ends up on top of each stack?"
   ]
  },
  {
   "cell_type": "code",
   "execution_count": 44,
   "metadata": {},
   "outputs": [
    {
     "name": "stdout",
     "output_type": "stream",
     "text": [
      "VJSFHWGFT\n"
     ]
    }
   ],
   "source": [
    "with open('input.txt') as f:\n",
    "    endOfBoard = False\n",
    "    board = []\n",
    "    actions=[]\n",
    "    for line in f:\n",
    "        if line.strip() == \"\":\n",
    "            endOfBoard = True\n",
    "        elif not endOfBoard:\n",
    "            board.append([*line.replace(\"\\n\",\"\")])\n",
    "        else:\n",
    "            action_raw = re.findall(r\"\\d+\", line)\n",
    "            actions.append({\"items\": int(action_raw[0]), \"from\": action_raw[1], \"to\": action_raw[2]})\n",
    "            \n",
    "main_board = dict()\n",
    "\n",
    "np_board = np.array(board)\n",
    "for i in range(len(np_board[-1])):\n",
    "    if np_board[-1][i].isdigit():\n",
    "        main_board[np_board[-1][i]] = []\n",
    "        for j in range(len(np_board)-2,-1,-1):\n",
    "            if np_board[j][i].isalpha():\n",
    "                main_board[np_board[-1][i]].append(np_board[j][i])\n",
    "\n",
    "for act in actions:\n",
    "    for k in range(act['items']):\n",
    "        main_board[act['to']].append(main_board[act['from']].pop())\n",
    "\n",
    "output = \"\"\n",
    "for key in main_board.keys():\n",
    "    output += main_board[key][-1]\n",
    "\n",
    "print(output)"
   ]
  },
  {
   "cell_type": "markdown",
   "metadata": {},
   "source": [
    "# Part 2"
   ]
  },
  {
   "cell_type": "markdown",
   "metadata": {},
   "source": [
    "As you watch the crane operator expertly rearrange the crates, you notice the process isn't following your prediction.\n",
    "\n",
    "Some mud was covering the writing on the side of the crane, and you quickly wipe it away. The crane isn't a CrateMover 9000 - it's a CrateMover 9001.\n",
    "\n",
    "The CrateMover 9001 is notable for many new and exciting features: air conditioning, leather seats, an extra cup holder, and the ability to pick up and move multiple crates at once.\n",
    "\n",
    "Again considering the example above, the crates begin in the same configuration:\n",
    "\n",
    "    [D]    \n",
    "[N] [C]    \n",
    "[Z] [M] [P]\n",
    " 1   2   3 \n",
    "\n",
    "Moving a single crate from stack 2 to stack 1 behaves the same as before:\n",
    "\n",
    "[D]        \n",
    "[N] [C]    \n",
    "[Z] [M] [P]\n",
    " 1   2   3 \n",
    "\n",
    "However, the action of moving three crates from stack 1 to stack 3 means that those three moved crates stay in the same order, resulting in this new configuration:\n",
    "\n",
    "        [D]\n",
    "        [N]\n",
    "    [C] [Z]\n",
    "    [M] [P]\n",
    " 1   2   3\n",
    "\n",
    "Next, as both crates are moved from stack 2 to stack 1, they retain their order as well:\n",
    "\n",
    "        [D]\n",
    "        [N]\n",
    "[C]     [Z]\n",
    "[M]     [P]\n",
    " 1   2   3\n",
    "\n",
    "Finally, a single crate is still moved from stack 1 to stack 2, but now it's crate C that gets moved:\n",
    "\n",
    "        [D]\n",
    "        [N]\n",
    "        [Z]\n",
    "[M] [C] [P]\n",
    " 1   2   3\n",
    "\n",
    "In this example, the CrateMover 9001 has put the crates in a totally different order: MCD.\n",
    "\n",
    "Before the rearrangement process finishes, update your simulation so that the Elves know where they should stand to be ready to unload the final supplies. After the rearrangement procedure completes, what crate ends up on top of each stack?"
   ]
  },
  {
   "cell_type": "code",
   "execution_count": 51,
   "metadata": {},
   "outputs": [
    {
     "name": "stdout",
     "output_type": "stream",
     "text": [
      "LCTQFBVZV\n"
     ]
    }
   ],
   "source": [
    "with open('input.txt') as f:\n",
    "    endOfBoard = False\n",
    "    board = []\n",
    "    actions=[]\n",
    "    for line in f:\n",
    "        if line.strip() == \"\":\n",
    "            endOfBoard = True\n",
    "        elif not endOfBoard:\n",
    "            board.append([*line.replace(\"\\n\",\"\")])\n",
    "        else:\n",
    "            action_raw = re.findall(r\"\\d+\", line)\n",
    "            actions.append({\"items\": int(action_raw[0]), \"from\": action_raw[1], \"to\": action_raw[2]})\n",
    "            \n",
    "main_board = dict()\n",
    "\n",
    "np_board = np.array(board)\n",
    "for i in range(len(np_board[-1])):\n",
    "    if np_board[-1][i].isdigit():\n",
    "        main_board[np_board[-1][i]] = []\n",
    "        for j in range(len(np_board)-2,-1,-1):\n",
    "            if np_board[j][i].isalpha():\n",
    "                main_board[np_board[-1][i]].append(np_board[j][i])\n",
    "\n",
    "for act in actions:\n",
    "    temp_list = []\n",
    "    for k in range(act['items']):\n",
    "       temp_list.append(main_board[act['from']].pop())\n",
    "\n",
    "    for t in range(len(temp_list)):\n",
    "         main_board[act['to']].append(temp_list[-(t+1)])\n",
    "\n",
    "output = \"\"\n",
    "for key in main_board.keys():\n",
    "    output += main_board[key][-1]\n",
    "\n",
    "print(output)"
   ]
  }
 ],
 "metadata": {
  "kernelspec": {
   "display_name": "Python 3.10.8 ('AoC2022')",
   "language": "python",
   "name": "python3"
  },
  "language_info": {
   "codemirror_mode": {
    "name": "ipython",
    "version": 3
   },
   "file_extension": ".py",
   "mimetype": "text/x-python",
   "name": "python",
   "nbconvert_exporter": "python",
   "pygments_lexer": "ipython3",
   "version": "3.10.8"
  },
  "orig_nbformat": 4,
  "vscode": {
   "interpreter": {
    "hash": "9c90ecabdf4070257308f2cc454bc6856421a919944e0b844321759114f2ffae"
   }
  }
 },
 "nbformat": 4,
 "nbformat_minor": 2
}
