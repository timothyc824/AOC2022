{
 "cells": [
  {
   "cell_type": "code",
   "execution_count": 3,
   "metadata": {},
   "outputs": [],
   "source": [
    "import numpy as np"
   ]
  },
  {
   "cell_type": "markdown",
   "metadata": {},
   "source": [
    "# --- Day 8: Treetop Tree House ---"
   ]
  },
  {
   "cell_type": "markdown",
   "metadata": {},
   "source": [
    "## Part 1"
   ]
  },
  {
   "cell_type": "markdown",
   "metadata": {},
   "source": [
    "The expedition comes across a peculiar patch of tall trees all planted carefully in a grid. The Elves explain that a previous expedition planted these trees as a reforestation effort. Now, they're curious if this would be a good location for a tree house.\n",
    "\n",
    "First, determine whether there is enough tree cover here to keep a tree house hidden. To do this, you need to count the number of trees that are visible from outside the grid when looking directly along a row or column.\n",
    "\n",
    "The Elves have already launched a quadcopter to generate a map with the height of each tree (your puzzle input). For example:\n",
    "\n",
    "30373\n",
    "25512\n",
    "65332\n",
    "33549\n",
    "35390\n",
    "\n",
    "Each tree is represented as a single digit whose value is its height, where 0 is the shortest and 9 is the tallest.\n",
    "\n",
    "A tree is visible if all of the other trees between it and an edge of the grid are shorter than it. Only consider trees in the same row or column; that is, only look up, down, left, or right from any given tree.\n",
    "\n",
    "All of the trees around the edge of the grid are visible - since they are already on the edge, there are no trees to block the view. In this example, that only leaves the interior nine trees to consider:\n",
    "\n",
    "    The top-left 5 is visible from the left and top. (It isn't visible from the right or bottom since other trees of height 5 are in the way.)\n",
    "    The top-middle 5 is visible from the top and right.\n",
    "    The top-right 1 is not visible from any direction; for it to be visible, there would need to only be trees of height 0 between it and an edge.\n",
    "    The left-middle 5 is visible, but only from the right.\n",
    "    The center 3 is not visible from any direction; for it to be visible, there would need to be only trees of at most height 2 between it and an edge.\n",
    "    The right-middle 3 is visible from the right.\n",
    "    In the bottom row, the middle 5 is visible, but the 3 and 4 are not.\n",
    "\n",
    "With 16 trees visible on the edge and another 5 visible in the interior, a total of 21 trees are visible in this arrangement.\n",
    "\n",
    "Consider your map; how many trees are visible from outside the grid?"
   ]
  },
  {
   "cell_type": "code",
   "execution_count": 32,
   "metadata": {},
   "outputs": [
    {
     "name": "stdout",
     "output_type": "stream",
     "text": [
      "1840\n"
     ]
    }
   ],
   "source": [
    "forest_map=[]\n",
    "\n",
    "with open('input.txt') as f:\n",
    "    for line in f:\n",
    "        if line.strip() != \"\":\n",
    "            input = line.strip()\n",
    "            forest_map.append(np.array([*input]).astype(int))\n",
    "\n",
    "forest_map = np.array(forest_map)\n",
    "\n",
    "visible = []\n",
    "\n",
    "for i in range(forest_map.shape[0]):\n",
    "    visible.append((i,0))\n",
    "    col_index = 1\n",
    "    last_height = forest_map[i,0]\n",
    "    while col_index < forest_map.shape[1]:\n",
    "        current_height = forest_map[i,col_index]\n",
    "        if current_height> last_height:\n",
    "            visible.append((i,col_index))\n",
    "            last_height = current_height\n",
    "        col_index += 1\n",
    "\n",
    "    visible.append((i,forest_map.shape[1]-1))\n",
    "    rev_col_index = forest_map.shape[1]-2\n",
    "    last_height = forest_map[i,forest_map.shape[1]-1]\n",
    "    while rev_col_index >= 0:\n",
    "        current_height = forest_map[i,rev_col_index]\n",
    "        if current_height> last_height:\n",
    "            visible.append((i,rev_col_index))\n",
    "            last_height = current_height\n",
    "        rev_col_index -= 1\n",
    "    \n",
    "for j in range(forest_map.shape[1]):\n",
    "    visible.append((0,j))\n",
    "    row_index = 1\n",
    "    last_height = forest_map[0,j]\n",
    "    while row_index < forest_map.shape[0]:\n",
    "        current_height = forest_map[row_index,j]\n",
    "        if current_height> last_height:\n",
    "            visible.append((row_index,j))\n",
    "            last_height = current_height\n",
    "        row_index += 1\n",
    "\n",
    "    visible.append((forest_map.shape[0]-1,j))\n",
    "    rev_row_index = forest_map.shape[0]-2\n",
    "    last_height = forest_map[forest_map.shape[0]-1,j]\n",
    "    while rev_row_index >= 0:\n",
    "        current_height = forest_map[rev_row_index,j]\n",
    "        if current_height> last_height:\n",
    "            visible.append((rev_row_index,j))\n",
    "            last_height = current_height\n",
    "        rev_row_index -= 1\n",
    "    \n",
    "visible_location = list(set(visible))\n",
    "result = np.ones_like(forest_map)\n",
    "for loc_pair in visible_location:\n",
    "    result[loc_pair[0],loc_pair[1]] = 0\n",
    "\n",
    "with open('output.txt', 'w') as f:\n",
    "    for r in result:\n",
    "        f.write(\" \".join(np.array(r).astype(str))+\"\\n\")\n",
    "\n",
    "print(len(visible_location))\n"
   ]
  },
  {
   "cell_type": "markdown",
   "metadata": {},
   "source": [
    "# Part 2"
   ]
  },
  {
   "cell_type": "markdown",
   "metadata": {},
   "source": [
    "Content with the amount of tree cover available, the Elves just need to know the best spot to build their tree house: they would like to be able to see a lot of trees.\n",
    "\n",
    "To measure the viewing distance from a given tree, look up, down, left, and right from that tree; stop if you reach an edge or at the first tree that is the same height or taller than the tree under consideration. (If a tree is right on the edge, at least one of its viewing distances will be zero.)\n",
    "\n",
    "The Elves don't care about distant trees taller than those found by the rules above; the proposed tree house has large eaves to keep it dry, so they wouldn't be able to see higher than the tree house anyway.\n",
    "\n",
    "In the example above, consider the middle 5 in the second row:\n",
    "\n",
    "30373\n",
    "25512\n",
    "65332\n",
    "33549\n",
    "35390\n",
    "\n",
    "    Looking up, its view is not blocked; it can see 1 tree (of height 3).\n",
    "    Looking left, its view is blocked immediately; it can see only 1 tree (of height 5, right next to it).\n",
    "    Looking right, its view is not blocked; it can see 2 trees.\n",
    "    Looking down, its view is blocked eventually; it can see 2 trees (one of height 3, then the tree of height 5 that blocks its view).\n",
    "\n",
    "A tree's scenic score is found by multiplying together its viewing distance in each of the four directions. For this tree, this is 4 (found by multiplying 1 * 1 * 2 * 2).\n",
    "\n",
    "However, you can do even better: consider the tree of height 5 in the middle of the fourth row:\n",
    "\n",
    "30373\n",
    "25512\n",
    "65332\n",
    "33549\n",
    "35390\n",
    "\n",
    "    Looking up, its view is blocked at 2 trees (by another tree with a height of 5).\n",
    "    Looking left, its view is not blocked; it can see 2 trees.\n",
    "    Looking down, its view is also not blocked; it can see 1 tree.\n",
    "    Looking right, its view is blocked at 2 trees (by a massive tree of height 9).\n",
    "\n",
    "This tree's scenic score is 8 (2 * 2 * 1 * 2); this is the ideal spot for the tree house.\n",
    "\n",
    "Consider each tree on your map. What is the highest scenic score possible for any tree?"
   ]
  },
  {
   "cell_type": "code",
   "execution_count": 41,
   "metadata": {},
   "outputs": [
    {
     "name": "stdout",
     "output_type": "stream",
     "text": [
      "405769\n"
     ]
    }
   ],
   "source": [
    "tree_scenary_score = np.zeros_like(forest_map)\n",
    "\n",
    "for i in range(forest_map.shape[0]):\n",
    "    for j in range(forest_map.shape[1]):\n",
    "        height = forest_map[i,j]\n",
    "        score = {\n",
    "            \"up\": 0,\n",
    "            \"down\": 0,\n",
    "            \"left\": 0,\n",
    "            \"right\": 0\n",
    "        }\n",
    "        \n",
    "        for up in range(i-1,-1,-1):\n",
    "            if forest_map[up,j]>= height:\n",
    "                score[\"up\"] += 1\n",
    "                break\n",
    "            else:\n",
    "                score[\"up\"] += 1\n",
    "\n",
    "        for down in range(i+1,forest_map.shape[1]):\n",
    "            if forest_map[down,j]>= height:\n",
    "                score[\"down\"] += 1\n",
    "                break\n",
    "            else:\n",
    "                score[\"down\"] += 1\n",
    "        \n",
    "        for left in range(j-1,-1,-1):\n",
    "            if forest_map[i,left]>= height:\n",
    "                score[\"left\"] += 1\n",
    "                break\n",
    "            else:\n",
    "                score[\"left\"] += 1\n",
    "\n",
    "        for right in range(j+1,forest_map.shape[0]):\n",
    "            if forest_map[i,right]>= height:\n",
    "                score[\"right\"] += 1\n",
    "                break\n",
    "            else:\n",
    "                score[\"right\"] += 1\n",
    "\n",
    "        tree_scenary_score[i,j] = score[\"up\"] * score[\"down\"] * score[\"left\"] * score[\"right\"]\n",
    "\n",
    "with open('output2.txt', 'w') as f:\n",
    "    for r in tree_scenary_score:\n",
    "        f.write(\"\".join([f\"{s:5}\" for s in np.array(r).astype(str)])+\"\\n\")\n",
    "\n",
    "print(tree_scenary_score.max())"
   ]
  }
 ],
 "metadata": {
  "kernelspec": {
   "display_name": "Python 3.10.8 ('AoC2022')",
   "language": "python",
   "name": "python3"
  },
  "language_info": {
   "codemirror_mode": {
    "name": "ipython",
    "version": 3
   },
   "file_extension": ".py",
   "mimetype": "text/x-python",
   "name": "python",
   "nbconvert_exporter": "python",
   "pygments_lexer": "ipython3",
   "version": "3.10.8"
  },
  "orig_nbformat": 4,
  "vscode": {
   "interpreter": {
    "hash": "9c90ecabdf4070257308f2cc454bc6856421a919944e0b844321759114f2ffae"
   }
  }
 },
 "nbformat": 4,
 "nbformat_minor": 2
}
