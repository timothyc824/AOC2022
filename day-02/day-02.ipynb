{
 "cells": [
  {
   "cell_type": "markdown",
   "metadata": {},
   "source": [
    "# Part 1"
   ]
  },
  {
   "cell_type": "markdown",
   "metadata": {},
   "source": [
    "The Elves begin to set up camp on the beach. To decide whose tent gets to be closest to the snack storage, a giant Rock Paper Scissors tournament is already in progress.\n",
    "\n",
    "Rock Paper Scissors is a game between two players. Each game contains many rounds; in each round, the players each simultaneously choose one of Rock, Paper, or Scissors using a hand shape. Then, a winner for that round is selected: Rock defeats Scissors, Scissors defeats Paper, and Paper defeats Rock. If both players choose the same shape, the round instead ends in a draw.\n",
    "\n",
    "Appreciative of your help yesterday, one Elf gives you an encrypted strategy guide (your puzzle input) that they say will be sure to help you win. \"The first column is what your opponent is going to play: A for Rock, B for Paper, and C for Scissors. The second column--\" Suddenly, the Elf is called away to help with someone's tent.\n",
    "\n",
    "The second column, you reason, must be what you should play in response: X for Rock, Y for Paper, and Z for Scissors. Winning every time would be suspicious, so the responses must have been carefully chosen.\n",
    "\n",
    "The winner of the whole tournament is the player with the highest score. Your total score is the sum of your scores for each round. The score for a single round is the score for the shape you selected (1 for Rock, 2 for Paper, and 3 for Scissors) plus the score for the outcome of the round (0 if you lost, 3 if the round was a draw, and 6 if you won).\n",
    "\n",
    "Since you can't be sure if the Elf is trying to help you or trick you, you should calculate the score you would get if you were to follow the strategy guide.\n",
    "\n",
    "For example, suppose you were given the following strategy guide:\n",
    "\n",
    "A Y\n",
    "\n",
    "B X\n",
    "\n",
    "C Z\n",
    "\n",
    "This strategy guide predicts and recommends the following:\n",
    "\n",
    "    In the first round, your opponent will choose Rock (A), and you should choose Paper (Y). This ends in a win for you with a score of 8 (2 because you chose Paper + 6 because you won).\n",
    "    In the second round, your opponent will choose Paper (B), and you should choose Rock (X). This ends in a loss for you with a score of 1 (1 + 0).\n",
    "    The third round is a draw with both players choosing Scissors, giving you a score of 3 + 3 = 6.\n",
    "\n",
    "In this example, if you were to follow the strategy guide, you would get a total score of 15 (8 + 1 + 6).\n",
    "\n",
    "What would your total score be if everything goes exactly according to your strategy guide?"
   ]
  },
  {
   "cell_type": "code",
   "execution_count": 2,
   "metadata": {},
   "outputs": [
    {
     "name": "stdout",
     "output_type": "stream",
     "text": [
      "11906\n"
     ]
    }
   ],
   "source": [
    "shape_score = {\"X\": 1, \"Y\": 2, \"Z\": 3}\n",
    "winning_hand = {\"A\": \"Y\", \"B\": \"Z\", \"C\": \"X\"}\n",
    "losing_hand = {\"A\": \"Z\", \"B\": \"X\", \"C\": \"Y\"}\n",
    "\n",
    "scores = []\n",
    "with open('input.txt') as f:\n",
    "    for line in f:\n",
    "        if line.strip() != \"\":\n",
    "            game_score = 0\n",
    "            op_hand, my_hand = line.strip().split(\" \")\n",
    "            # print(f\"op hand: '{op_hand}', my hand: '{my_hand}'\")\n",
    "            if my_hand == winning_hand[op_hand]:\n",
    "                game_score += 6\n",
    "            elif my_hand == losing_hand[op_hand]:\n",
    "                game_score += 0\n",
    "            else:\n",
    "                game_score += 3\n",
    "            game_score += shape_score[my_hand]\n",
    "            scores.append(game_score)\n",
    "print(sum(scores))"
   ]
  },
  {
   "cell_type": "markdown",
   "metadata": {},
   "source": [
    "# Part 2"
   ]
  },
  {
   "cell_type": "markdown",
   "metadata": {},
   "source": [
    "The Elf finishes helping with the tent and sneaks back over to you. \"Anyway, the second column says how the round needs to end: X means you need to lose, Y means you need to end the round in a draw, and Z means you need to win. Good luck!\"\n",
    "\n",
    "The total score is still calculated in the same way, but now you need to figure out what shape to choose so the round ends as indicated. The example above now goes like this:\n",
    "\n",
    "    In the first round, your opponent will choose Rock (A), and you need the round to end in a draw (Y), so you also choose Rock. This gives you a score of 1 + 3 = 4.\n",
    "    In the second round, your opponent will choose Paper (B), and you choose Rock so you lose (X) with a score of 1 + 0 = 1.\n",
    "    In the third round, you will defeat your opponent's Scissors with Rock for a score of 1 + 6 = 7.\n",
    "\n",
    "Now that you're correctly decrypting the ultra top secret strategy guide, you would get a total score of 12.\n",
    "\n",
    "Following the Elf's instructions for the second column, what would your total score be if everything goes exactly according to your strategy guide?"
   ]
  },
  {
   "cell_type": "code",
   "execution_count": 4,
   "metadata": {},
   "outputs": [
    {
     "name": "stdout",
     "output_type": "stream",
     "text": [
      "11186\n"
     ]
    }
   ],
   "source": [
    "shape_score = {\"A\": 1, \"B\": 2, \"C\": 3}\n",
    "result_score = {\"X\":0, \"Y\":3, \"Z\": 6}\n",
    "winning_shape_score = {\"A\":shape_score[\"B\"], \"B\":shape_score[\"C\"], \"C\":shape_score[\"A\"]}\n",
    "losing_shape_score = {\"A\":shape_score[\"C\"], \"B\":shape_score[\"A\"], \"C\":shape_score[\"B\"]}\n",
    "draw_shape_score = {\"A\":shape_score[\"A\"], \"B\":shape_score[\"B\"], \"C\":shape_score[\"C\"]}\n",
    "\n",
    "\n",
    "scores = []\n",
    "with open('input.txt') as f:\n",
    "    for line in f:\n",
    "        if line.strip() != \"\":\n",
    "            game_score = 0\n",
    "            op_hand, result_sym = line.strip().split(\" \")\n",
    "            game_score+=result_score[result_sym]\n",
    "            if result_sym ==\"Z\":\n",
    "                game_score += winning_shape_score[op_hand]\n",
    "            elif result_sym == \"Y\":\n",
    "                game_score += draw_shape_score[op_hand]\n",
    "            else:\n",
    "                game_score += losing_shape_score[op_hand]\n",
    "            scores.append(game_score)\n",
    "print(sum(scores))"
   ]
  }
 ],
 "metadata": {
  "kernelspec": {
   "display_name": "Python 3.10.8 ('AoC2022')",
   "language": "python",
   "name": "python3"
  },
  "language_info": {
   "codemirror_mode": {
    "name": "ipython",
    "version": 3
   },
   "file_extension": ".py",
   "mimetype": "text/x-python",
   "name": "python",
   "nbconvert_exporter": "python",
   "pygments_lexer": "ipython3",
   "version": "3.10.8"
  },
  "orig_nbformat": 4,
  "vscode": {
   "interpreter": {
    "hash": "9c90ecabdf4070257308f2cc454bc6856421a919944e0b844321759114f2ffae"
   }
  }
 },
 "nbformat": 4,
 "nbformat_minor": 2
}
